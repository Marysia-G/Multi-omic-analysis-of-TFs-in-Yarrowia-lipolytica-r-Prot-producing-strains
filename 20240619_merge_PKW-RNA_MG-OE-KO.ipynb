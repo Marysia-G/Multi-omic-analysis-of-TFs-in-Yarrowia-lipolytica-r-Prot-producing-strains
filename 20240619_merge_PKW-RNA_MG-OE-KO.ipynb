{
 "cells": [
  {
   "cell_type": "code",
   "execution_count": 1,
   "metadata": {},
   "outputs": [],
   "source": [
    "import pandas as pd\n",
    "\n",
    "final_transcriptomics = pd.read_excel('final_transcriptomics.xlsx')\n",
    "final_OE = pd.read_excel('final_OE.xlsx')\n",
    "final_KO = pd.read_excel('final_KO.xlsx')\n",
    "\n",
    "final_KO = final_KO[final_KO['TF number'] != 'control']\n"
   ]
  },
  {
   "cell_type": "code",
   "execution_count": 2,
   "metadata": {},
   "outputs": [],
   "source": [
    "screening = pd.merge(final_OE, final_KO, on='TF number', how='outer')\n",
    "merged_results = pd.merge(final_transcriptomics, screening, on='Gene', how='outer')\n",
    "\n",
    "# tu będzie trzeba jeszcze pousuwać niepotrzebne kolumny i wiersze danych, dla których nie ma żadnych wyników"
   ]
  },
  {
   "cell_type": "code",
   "execution_count": 3,
   "metadata": {},
   "outputs": [],
   "source": [
    "merged_results.drop(['Unnamed: 0_x', 'Unnamed: 0_y', 'TF number_y', 'Assigned name_y', 'cassette'], axis=1, inplace=True)"
   ]
  },
  {
   "cell_type": "code",
   "execution_count": 4,
   "metadata": {},
   "outputs": [],
   "source": [
    "merged_results.rename(columns={'TF number_x': 'TF number', 'Assigned name_x': 'Assigned name', 'mean_FC_FL': 'OE_rProt',\n",
    "                       'mean_FC_sFL': 'OE_normalized_rProt', 'FC_r-Prot': 'KO_rProt', 'FC_normalized_r-Prot': 'KO_normalized_rProt'},\n",
    "                       inplace=True)"
   ]
  },
  {
   "cell_type": "code",
   "execution_count": 5,
   "metadata": {},
   "outputs": [],
   "source": [
    "new_order = ['Gene', 'TF number', 'Assigned name', 'scSoA', 'scYFP', 'inYFP', 'scTlG', 'HAC_scYFP', 'OE_rProt', 'OE_normalized_rProt',\n",
    "             'KO_rProt', 'KO_normalized_rProt']\n",
    "\n",
    "merged_results = merged_results[new_order]"
   ]
  },
  {
   "cell_type": "code",
   "execution_count": 6,
   "metadata": {},
   "outputs": [],
   "source": [
    "merged_results.drop([104, 114, 116, 123, 126, 145, 146, 147], inplace=True)\n",
    "merged_results.reset_index(drop=True, inplace=True)"
   ]
  },
  {
   "cell_type": "code",
   "execution_count": 7,
   "metadata": {},
   "outputs": [
    {
     "name": "stdout",
     "output_type": "stream",
     "text": [
      "              Gene TF number Assigned name  scSoA  scYFP  inYFP  scTlG  \\\n",
      "0    YALI0_D20482g     TF037          GZF1  -4.20  -0.67    0.0   0.00   \n",
      "1    YALI0_E20251g     TF136             -  -1.22  -0.70    0.0   0.22   \n",
      "2    YALI0_C03564g     TF013             -   1.48   1.08    0.0   0.72   \n",
      "3    YALI0_C18645g     TF121             -   0.84   0.00    0.0  -0.28   \n",
      "4    YALI0_D01573g     TF115          MGF1   0.57   0.36    0.0   0.00   \n",
      "..             ...       ...           ...    ...    ...    ...    ...   \n",
      "135  YALI0_F15543g     TF134             -   0.00   0.00    0.0   0.00   \n",
      "136  YALI0_E14971g     TF135             -   0.00   0.00    0.0   0.00   \n",
      "137  YALI0_E05577g     TF139             -   0.00   0.00    0.0   0.00   \n",
      "138  YALI0_B08360g     TF140             -   0.00   0.00    0.0   0.00   \n",
      "139  YALI0_C13794g     TF142             -   0.00   0.00    0.0   0.00   \n",
      "\n",
      "     HAC_scYFP  OE_rProt  OE_normalized_rProt  KO_rProt  KO_normalized_rProt  \n",
      "0         0.00  1.762627             1.772074  2.478464             1.938628  \n",
      "1         0.00  1.000000             1.000000  1.000000             1.000000  \n",
      "2         1.02  0.960393             0.955512  1.000000             1.000000  \n",
      "3         0.00  1.564276             1.467663  1.000000             1.000000  \n",
      "4         0.00  0.757495             0.833487  1.000000             1.000000  \n",
      "..         ...       ...                  ...       ...                  ...  \n",
      "135       0.00  1.123122             1.112055  1.000000             1.000000  \n",
      "136       0.00  0.998131             0.998452  1.000000             1.000000  \n",
      "137       0.00  0.813659             0.879547  1.000000             1.000000  \n",
      "138       0.00  1.042670             1.055845  1.000000             1.000000  \n",
      "139       0.00  0.972774             0.998136  1.000000             1.000000  \n",
      "\n",
      "[140 rows x 12 columns]\n"
     ]
    },
    {
     "name": "stderr",
     "output_type": "stream",
     "text": [
      "C:\\Users\\User\\AppData\\Local\\Temp\\ipykernel_20492\\3555466967.py:4: SettingWithCopyWarning: \n",
      "A value is trying to be set on a copy of a slice from a DataFrame\n",
      "\n",
      "See the caveats in the documentation: https://pandas.pydata.org/pandas-docs/stable/user_guide/indexing.html#returning-a-view-versus-a-copy\n",
      "  rna_data.fillna(0, inplace=True)\n",
      "C:\\Users\\User\\AppData\\Local\\Temp\\ipykernel_20492\\3555466967.py:5: SettingWithCopyWarning: \n",
      "A value is trying to be set on a copy of a slice from a DataFrame\n",
      "\n",
      "See the caveats in the documentation: https://pandas.pydata.org/pandas-docs/stable/user_guide/indexing.html#returning-a-view-versus-a-copy\n",
      "  phenotype_data.fillna(1, inplace=True)\n"
     ]
    }
   ],
   "source": [
    "rna_data = merged_results[['scSoA', 'scYFP', 'inYFP', 'scTlG', 'HAC_scYFP']]\n",
    "phenotype_data = merged_results[['OE_rProt', 'OE_normalized_rProt', 'KO_rProt', 'KO_normalized_rProt']]\n",
    "\n",
    "rna_data.fillna(0, inplace=True)\n",
    "phenotype_data.fillna(1, inplace=True)\n",
    "\n",
    "merged_results.update(rna_data)\n",
    "merged_results.update(phenotype_data)\n",
    "\n",
    "print(merged_results)"
   ]
  },
  {
   "cell_type": "code",
   "execution_count": 8,
   "metadata": {},
   "outputs": [],
   "source": [
    "merged_results.loc[merged_results['TF number'] == 'TF116', 'Assigned name'] = 'ADR1'\n",
    "merged_results.loc[merged_results['TF number'] == 'TF082', 'Assigned name'] = 'GZF2'\n",
    "merged_results.loc[merged_results['TF number'] == 'TF127', 'Assigned name'] = 'ERT1-1'\n",
    "merged_results.loc[merged_results['TF number'] == 'TF040', 'Assigned name'] = 'ERT1-2'\n"
   ]
  },
  {
   "cell_type": "code",
   "execution_count": 9,
   "metadata": {},
   "outputs": [],
   "source": [
    "merged_results.rename(columns={'OE_rProt': 'OE_rProt_total', 'OE_normalized_rProt': 'OE_rProt_normalized', \n",
    "                               'KO_rProt': 'KO_inRedStar', 'KO_normalized_rProt': 'KO_normalized_inRedStar',\n",
    "                               'HAC_scYFP': 'scYFP_HAC1'}, inplace=True)\n",
    "\n",
    "merged_results['Gene'] = merged_results['Gene'].str.replace('YALI0_', '').str.replace('g', '')\n",
    "\n"
   ]
  },
  {
   "cell_type": "code",
   "execution_count": 10,
   "metadata": {},
   "outputs": [],
   "source": [
    "merged_results.loc[merged_results['Gene'] == 'C18645', 'Assigned name'] = 'ARO80'\n",
    "merged_results.loc[merged_results['Gene'] == 'F13321', 'Assigned name'] = 'OAF1'\n",
    "merged_results.loc[merged_results['Gene'] == 'D15334', 'Assigned name'] = 'CPH2'\n",
    "merged_results.loc[merged_results['Gene'] == 'B15818', 'Assigned name'] = 'SterTF'\n",
    "merged_results.loc[merged_results['Gene'] == 'B13354', 'Assigned name'] = 'AP-4'\n",
    "merged_results.loc[merged_results['Gene'] == 'F16599', 'Assigned name'] = 'STB4'\n",
    "merged_results.loc[merged_results['Gene'] == 'D05005', 'Assigned name'] = 'SEF1'\n",
    "merged_results.loc[merged_results['Gene'] == 'A19778', 'Assigned name'] = 'MBP1'\n",
    "merged_results.loc[merged_results['Gene'] == 'E01606', 'Assigned name'] = 'OAF3'\n",
    "merged_results.loc[merged_results['Gene'] == 'D13904', 'Assigned name'] = 'LEU3'\n",
    "merged_results.loc[merged_results['Gene'] == 'F09493', 'Assigned name'] = 'SAP61'\n",
    "merged_results.loc[merged_results['Gene'] == 'E10681', 'Assigned name'] = 'WAR1'\n",
    "merged_results.loc[merged_results['Gene'] == 'D23749', 'Assigned name'] = 'ZAP1'\n"
   ]
  },
  {
   "cell_type": "code",
   "execution_count": 11,
   "metadata": {},
   "outputs": [],
   "source": [
    "merged_results.to_excel('all_merged_data.xlsx')\n"
   ]
  }
 ],
 "metadata": {
  "kernelspec": {
   "display_name": "Python 3",
   "language": "python",
   "name": "python3"
  },
  "language_info": {
   "codemirror_mode": {
    "name": "ipython",
    "version": 3
   },
   "file_extension": ".py",
   "mimetype": "text/x-python",
   "name": "python",
   "nbconvert_exporter": "python",
   "pygments_lexer": "ipython3",
   "version": "3.11.9"
  }
 },
 "nbformat": 4,
 "nbformat_minor": 2
}
