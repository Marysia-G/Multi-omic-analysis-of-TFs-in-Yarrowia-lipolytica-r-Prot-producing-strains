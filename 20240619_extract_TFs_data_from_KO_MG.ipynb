{
 "cells": [
  {
   "cell_type": "code",
   "execution_count": 2,
   "metadata": {},
   "outputs": [],
   "source": [
    "import pandas as pd\n",
    "pd.options.display.max_rows = 1000\n",
    "\n",
    "knock_out_data = pd.read_excel('KO_data.xlsx')"
   ]
  },
  {
   "cell_type": "code",
   "execution_count": 3,
   "metadata": {},
   "outputs": [],
   "source": [
    "knock_out_data.drop(['Unnamed: 0', 'growth_control', 'r-Prot_control', 'normalized_r-Prot_control'], axis=1, inplace=True)"
   ]
  },
  {
   "cell_type": "code",
   "execution_count": 10,
   "metadata": {},
   "outputs": [],
   "source": [
    "strains_to_drop = ['287', '268', '269', '273', '274', '275', '288', '290', '295', '301', '302', '277', '278', 'medium', '2900', '283', '284']\n",
    "knock_out_data = knock_out_data[~knock_out_data['strain'].isin(strains_to_drop)]\n",
    "\n",
    "knock_out_data.to_excel('KO_data_filtered.xlsx')"
   ]
  },
  {
   "cell_type": "code",
   "execution_count": 5,
   "metadata": {},
   "outputs": [],
   "source": [
    "knock_out_means = knock_out_data.groupby('cassette')[['FC_r-Prot', 'FC_normalized_r-Prot']].agg('mean')\n",
    "knock_out_means['TF number'] = ['TF124', 'TF128', 'TF054', 'TF037', 'TF006', 'TF120', 'TF068', 'TF126', 'TF042', 'control', 'TF080', 'TF033']\n"
   ]
  },
  {
   "cell_type": "code",
   "execution_count": 6,
   "metadata": {},
   "outputs": [],
   "source": [
    "knock_out_means.to_excel('final_KO.xlsx')"
   ]
  },
  {
   "cell_type": "code",
   "execution_count": 7,
   "metadata": {},
   "outputs": [
    {
     "name": "stdout",
     "output_type": "stream",
     "text": [
      "  strain cassette  growth  rProt  normalized_rProt  FC_growth  FC_r-Prot  \\\n",
      "0    259     GZF1  21.190  61640       2908.919302   1.075635   1.955584   \n",
      "1    259     GZF1  21.190  61640       2908.919302   1.333711   2.756708   \n",
      "2    260     HSF1  20.180  59220       2934.588702   1.024365   1.878807   \n",
      "3    260     HSF1  20.180  59220       2934.588702   1.270141   2.648479   \n",
      "4    261     SKN7  20.054  47540       2370.599382   1.017970   1.508249   \n",
      "\n",
      "   FC_normalized_r-Prot  \n",
      "0              1.818075  \n",
      "1              2.066946  \n",
      "2              1.834118  \n",
      "3              2.085185  \n",
      "4              1.481625  \n"
     ]
    }
   ],
   "source": [
    "knock_out_data.rename(columns={'r-Prot': 'rProt', 'normalized_r-Prot': 'normalized_rProt'}, inplace=True)\n",
    "print(knock_out_data.head())\n"
   ]
  },
  {
   "cell_type": "markdown",
   "metadata": {},
   "source": [
    "ANOVA"
   ]
  },
  {
   "cell_type": "code",
   "execution_count": 8,
   "metadata": {},
   "outputs": [
    {
     "name": "stdout",
     "output_type": "stream",
     "text": [
      "ANOVA Table:\n",
      "                   sum_sq     df          F        PR(>F)\n",
      "C(cassette)  2.053512e+10   11.0  55.421169  2.800442e-39\n",
      "Residual     3.637916e+09  108.0        NaN           NaN\n",
      "Tukey's HSD results:\n",
      "        Multiple Comparison of Means - Tukey HSD, FWER=0.05        \n",
      "===================================================================\n",
      " group1   group2    meandiff  p-adj     lower       upper    reject\n",
      "-------------------------------------------------------------------\n",
      "    AZF1     DEP1  36859.1667    0.0  29454.4281  44263.9053   True\n",
      "    AZF1     EUF1     15030.0    0.0   7114.0015  22945.9985   True\n",
      "    AZF1     GZF1  34586.6667    0.0  23391.7542  45781.5792   True\n",
      "    AZF1     HAC1   4556.6667 0.9685  -6638.2458  15751.5792  False\n",
      "    AZF1     HAP1  13324.1667    0.0   5919.4281  20728.9053   True\n",
      "    AZF1     HSF1  21816.6667    0.0  10621.7542  33011.5792   True\n",
      "    AZF1     KLF1   9136.6667 0.2279  -2058.2458  20331.5792  False\n",
      "    AZF1     MIG1     -2525.0 0.9853  -9380.4558   4330.4558  False\n",
      "    AZF1 RedStar+  -3313.3333 0.9977 -14508.2458   7881.5792  False\n",
      "    AZF1     SFL1  10239.1667 0.0006   2834.4281  17643.9053   True\n",
      "    AZF1     SKN7  15686.6667 0.0005   4491.7542  26881.5792   True\n",
      "    DEP1     EUF1 -21829.1667    0.0 -29233.9053 -14424.4281   True\n",
      "    DEP1     GZF1     -2272.5 0.9999 -13111.9274   8566.9274  False\n",
      "    DEP1     HAC1    -32302.5    0.0 -43141.9274 -21463.0726   True\n",
      "    DEP1     HAP1    -23535.0    0.0 -30390.4558 -16679.5442   True\n",
      "    DEP1     HSF1    -15042.5 0.0006 -25881.9274  -4203.0726   True\n",
      "    DEP1     KLF1    -27722.5    0.0 -38561.9274 -16883.0726   True\n",
      "    DEP1     MIG1 -39384.1667    0.0  -45642.313 -33126.0203   True\n",
      "    DEP1 RedStar+    -40172.5    0.0 -51011.9274 -29333.0726   True\n",
      "    DEP1     SFL1    -26620.0    0.0 -33475.4558 -19764.5442   True\n",
      "    DEP1     SKN7    -21172.5    0.0 -32011.9274 -10333.0726   True\n",
      "    EUF1     GZF1  19556.6667    0.0   8361.7542  30751.5792   True\n",
      "    EUF1     HAC1 -10473.3333 0.0897 -21668.2458    721.5792  False\n",
      "    EUF1     HAP1  -1705.8333 0.9998  -9110.5719   5698.9053  False\n",
      "    EUF1     HSF1   6786.6667 0.6753  -4408.2458  17981.5792  False\n",
      "    EUF1     KLF1  -5893.3333 0.8361 -17088.2458   5301.5792  False\n",
      "    EUF1     MIG1    -17555.0    0.0 -24410.4558 -10699.5442   True\n",
      "    EUF1 RedStar+ -18343.3333    0.0 -29538.2458  -7148.4208   True\n",
      "    EUF1     SFL1  -4790.8333 0.5805 -12195.5719   2613.9053  False\n",
      "    EUF1     SKN7    656.6667    1.0 -10538.2458  11851.5792  False\n",
      "    GZF1     HAC1    -30030.0    0.0 -43740.9117 -16319.0883   True\n",
      "    GZF1     HAP1    -21262.5    0.0 -32101.9274 -10423.0726   True\n",
      "    GZF1     HSF1    -12770.0  0.093 -26480.9117    940.9117  False\n",
      "    GZF1     KLF1    -25450.0    0.0 -39160.9117 -11739.0883   True\n",
      "    GZF1     MIG1 -37111.6667    0.0 -47583.5484 -26639.7849   True\n",
      "    GZF1 RedStar+    -37900.0    0.0 -51610.9117 -24189.0883   True\n",
      "    GZF1     SFL1    -24347.5    0.0 -35186.9274 -13508.0726   True\n",
      "    GZF1     SKN7    -18900.0 0.0007 -32610.9117  -5189.0883   True\n",
      "    HAC1     HAP1      8767.5 0.2396  -2071.9274  19606.9274  False\n",
      "    HAC1     HSF1     17260.0  0.003   3549.0883  30970.9117   True\n",
      "    HAC1     KLF1      4580.0 0.9933  -9130.9117  18290.9117  False\n",
      "    HAC1     MIG1  -7081.6667 0.5115 -17553.5484   3390.2151  False\n",
      "    HAC1 RedStar+     -7870.0 0.7456 -21580.9117   5840.9117  False\n",
      "    HAC1     SFL1      5682.5 0.8397  -5156.9274  16521.9274  False\n",
      "    HAC1     SKN7     11130.0 0.2348  -2580.9117  24840.9117  False\n",
      "    HAP1     HSF1      8492.5 0.2833  -2346.9274  19331.9274  False\n",
      "    HAP1     KLF1     -4187.5 0.9787 -15026.9274   6651.9274  False\n",
      "    HAP1     MIG1 -15849.1667    0.0  -22107.313  -9591.0203   True\n",
      "    HAP1 RedStar+    -16637.5 0.0001 -27476.9274  -5798.0726   True\n",
      "    HAP1     SFL1     -3085.0 0.9366  -9940.4558   3770.4558  False\n",
      "    HAP1     SKN7      2362.5 0.9999  -8476.9274  13201.9274  False\n",
      "    HSF1     KLF1    -12680.0 0.0983 -26390.9117   1030.9117  False\n",
      "    HSF1     MIG1 -24341.6667    0.0 -34813.5484 -13869.7849   True\n",
      "    HSF1 RedStar+    -25130.0    0.0 -38840.9117 -11419.0883   True\n",
      "    HSF1     SFL1    -11577.5 0.0255 -22416.9274   -738.0726   True\n",
      "    HSF1     SKN7     -6130.0 0.9393 -19840.9117   7580.9117  False\n",
      "    KLF1     MIG1 -11661.6667 0.0158 -22133.5484  -1189.7849   True\n",
      "    KLF1 RedStar+    -12450.0 0.1132 -26160.9117   1260.9117  False\n",
      "    KLF1     SFL1      1102.5    1.0  -9736.9274  11941.9274  False\n",
      "    KLF1     SKN7      6550.0 0.9069  -7160.9117  20260.9117  False\n",
      "    MIG1 RedStar+   -788.3333    1.0 -11260.2151   9683.5484  False\n",
      "    MIG1     SFL1  12764.1667    0.0   6506.0203   19022.313   True\n",
      "    MIG1     SKN7  18211.6667    0.0   7739.7849  28683.5484   True\n",
      "RedStar+     SFL1     13552.5 0.0033   2713.0726  24391.9274   True\n",
      "RedStar+     SKN7     19000.0 0.0006   5289.0883  32710.9117   True\n",
      "    SFL1     SKN7      5447.5 0.8737  -5391.9274  16286.9274  False\n",
      "-------------------------------------------------------------------\n"
     ]
    }
   ],
   "source": [
    "import pandas as pd\n",
    "import statsmodels.api as sm\n",
    "from statsmodels.formula.api import ols\n",
    "from statsmodels.stats.multicomp import pairwise_tukeyhsd\n",
    "\n",
    "# Perform ANOVA on FL\n",
    "model_FL = ols('rProt ~ C(cassette)', data=knock_out_data).fit()\n",
    "anova_table_FL = sm.stats.anova_lm(model_FL, typ=2)\n",
    "print(\"ANOVA Table:\")\n",
    "print(anova_table_FL)\n",
    "\n",
    "# Perform post-hoc analysis for FL\n",
    "tukey_FL = pairwise_tukeyhsd(endog=knock_out_data['rProt'], groups=knock_out_data['cassette'], alpha=0.05)\n",
    "print(\"Tukey's HSD results:\")\n",
    "print(tukey_FL)\n"
   ]
  },
  {
   "cell_type": "code",
   "execution_count": 9,
   "metadata": {},
   "outputs": [
    {
     "name": "stdout",
     "output_type": "stream",
     "text": [
      "ANOVA Table:\n",
      "                   sum_sq     df          F        PR(>F)\n",
      "C(cassette)  2.053512e+10   11.0  55.421169  2.800442e-39\n",
      "Residual     3.637916e+09  108.0        NaN           NaN\n",
      "Tukey's HSD results:\n",
      "      Multiple Comparison of Means - Tukey HSD, FWER=0.05       \n",
      "================================================================\n",
      " group1   group2   meandiff  p-adj    lower      upper    reject\n",
      "----------------------------------------------------------------\n",
      "    AZF1     DEP1  1934.7904    0.0  1591.4918  2278.0891   True\n",
      "    AZF1     EUF1   675.7737    0.0   308.7721  1042.7754   True\n",
      "    AZF1     GZF1  1458.8585    0.0   939.8398  1977.8773   True\n",
      "    AZF1     HAC1   217.1022 0.9617  -301.9166    736.121  False\n",
      "    AZF1     HAP1   611.7429    0.0   268.4442   955.0415   True\n",
      "    AZF1     HSF1  1033.5756    0.0   514.5568  1552.5943   True\n",
      "    AZF1     KLF1   434.3883 0.1966   -84.6305   953.4071  False\n",
      "    AZF1     MIG1    70.5855 0.9998  -247.2473   388.4183  False\n",
      "    AZF1 RedStar+    59.4287    1.0    -459.59   578.4475  False\n",
      "    AZF1     SFL1   517.2143 0.0001   173.9156   860.5129   True\n",
      "    AZF1     SKN7   749.2382 0.0003   230.2195   1268.257   True\n",
      "    DEP1     EUF1 -1259.0167    0.0 -1602.3153   -915.718   True\n",
      "    DEP1     GZF1  -475.9319 0.0811  -978.4696    26.6059  False\n",
      "    DEP1     HAC1 -1717.6882    0.0  -2220.226 -1215.1505   True\n",
      "    DEP1     HAP1 -1323.0475    0.0 -1640.8803 -1005.2148   True\n",
      "    DEP1     HSF1  -901.2149    0.0 -1403.7526  -398.6771   True\n",
      "    DEP1     KLF1 -1500.4021    0.0 -2002.9399  -997.8644   True\n",
      "    DEP1     MIG1 -1864.2049    0.0 -2154.3452 -1574.0646   True\n",
      "    DEP1 RedStar+ -1875.3617    0.0 -2377.8994 -1372.8239   True\n",
      "    DEP1     SFL1 -1417.5761    0.0 -1735.4089 -1099.7433   True\n",
      "    DEP1     SKN7 -1185.5522    0.0 -1688.0899  -683.0144   True\n",
      "    EUF1     GZF1   783.0848 0.0001    264.066  1302.1036   True\n",
      "    EUF1     HAC1  -458.6715 0.1378  -977.6903    60.3472  False\n",
      "    EUF1     HAP1   -64.0309    1.0  -407.3295   279.2678  False\n",
      "    EUF1     HSF1   357.8018 0.4809  -161.2169   876.8206  False\n",
      "    EUF1     KLF1  -241.3854 0.9214  -760.4042   277.6333  False\n",
      "    EUF1     MIG1  -605.1882    0.0   -923.021  -287.3554   True\n",
      "    EUF1 RedStar+   -616.345  0.007 -1135.3638   -97.3262   True\n",
      "    EUF1     SFL1  -158.5595 0.9248  -501.8581   184.7392  False\n",
      "    EUF1     SKN7    73.4645    1.0  -445.5543   592.4833  False\n",
      "    GZF1     HAC1 -1241.7563    0.0 -1877.4219  -606.0908   True\n",
      "    GZF1     HAP1  -847.1157    0.0 -1349.6534  -344.5779   True\n",
      "    GZF1     HSF1   -425.283 0.5285 -1060.9485   210.3826  False\n",
      "    GZF1     KLF1 -1024.4702    0.0 -1660.1358  -388.8047   True\n",
      "    GZF1     MIG1  -1388.273    0.0 -1873.7706  -902.7754   True\n",
      "    GZF1 RedStar+ -1399.4298    0.0 -2035.0954  -763.7642   True\n",
      "    GZF1     SFL1  -941.6443    0.0  -1444.182  -439.1065   True\n",
      "    GZF1     SKN7  -709.6203 0.0154 -1345.2859   -73.9547   True\n",
      "    HAC1     HAP1   394.6407   0.28  -107.8971   897.1784  False\n",
      "    HAC1     HSF1   816.4734 0.0022   180.8078  1452.1389   True\n",
      "    HAC1     KLF1   217.2861 0.9919  -418.3795   852.9517  False\n",
      "    HAC1     MIG1  -146.5167 0.9972  -632.0143   338.9809  False\n",
      "    HAC1 RedStar+  -157.6735 0.9995   -793.339   477.9921  False\n",
      "    HAC1     SFL1   300.1121 0.6956  -202.4257   802.6498  False\n",
      "    HAC1     SKN7    532.136 0.1964  -103.5295  1167.8016  False\n",
      "    HAP1     HSF1   421.8327 0.1931   -80.7051   924.3704  False\n",
      "    HAP1     KLF1  -177.3546 0.9895  -679.8923   325.1832  False\n",
      "    HAP1     MIG1  -541.1573    0.0  -831.2977   -251.017   True\n",
      "    HAP1 RedStar+  -552.3141 0.0185 -1054.8519   -49.7764   True\n",
      "    HAP1     SFL1   -94.5286 0.9976  -412.3614   223.3042  False\n",
      "    HAP1     SKN7   137.4954 0.9988  -365.0424   640.0331  False\n",
      "    HSF1     KLF1  -599.1873 0.0843 -1234.8528    36.4783  False\n",
      "    HSF1     MIG1    -962.99    0.0 -1448.4876  -477.4924   True\n",
      "    HSF1 RedStar+  -974.1468 0.0001 -1609.8124  -338.4813   True\n",
      "    HSF1     SFL1  -516.3613 0.0384  -1018.899   -13.8235   True\n",
      "    HSF1     SKN7  -284.3373 0.9391  -920.0029   351.3282  False\n",
      "    KLF1     MIG1  -363.8028 0.3492  -849.3004   121.6948  False\n",
      "    KLF1 RedStar+  -374.9596 0.7117 -1010.6251    260.706  False\n",
      "    KLF1     SFL1     82.826    1.0  -419.7118   585.3637  False\n",
      "    KLF1     SKN7   314.8499 0.8841  -320.8156   950.5155  False\n",
      "    MIG1 RedStar+   -11.1568    1.0  -496.6544   474.3408  False\n",
      "    MIG1     SFL1   446.6288 0.0001   156.4885   736.7691   True\n",
      "    MIG1     SKN7   678.6527 0.0005   193.1551  1164.1503   True\n",
      "RedStar+     SFL1   457.7856 0.1105   -44.7522   960.3233  False\n",
      "RedStar+     SKN7   689.8095 0.0214    54.1439  1325.4751   True\n",
      "    SFL1     SKN7   232.0239  0.925  -270.5138   734.5617  False\n",
      "----------------------------------------------------------------\n"
     ]
    }
   ],
   "source": [
    "# Perform ANOVA on FL\n",
    "model_sFL = ols('normalized_rProt ~ C(cassette)', data=knock_out_data).fit()\n",
    "anova_table_sFL = sm.stats.anova_lm(model_FL, typ=2)\n",
    "print(\"ANOVA Table:\")\n",
    "print(anova_table_sFL)\n",
    "\n",
    "# Perform post-hoc analysis for FL\n",
    "tukey_sFL = pairwise_tukeyhsd(endog=knock_out_data['normalized_rProt'], groups=knock_out_data['cassette'], alpha=0.05)\n",
    "print(\"Tukey's HSD results:\")\n",
    "print(tukey_sFL)"
   ]
  }
 ],
 "metadata": {
  "kernelspec": {
   "display_name": "Python 3",
   "language": "python",
   "name": "python3"
  },
  "language_info": {
   "codemirror_mode": {
    "name": "ipython",
    "version": 3
   },
   "file_extension": ".py",
   "mimetype": "text/x-python",
   "name": "python",
   "nbconvert_exporter": "python",
   "pygments_lexer": "ipython3",
   "version": "3.11.9"
  }
 },
 "nbformat": 4,
 "nbformat_minor": 2
}
