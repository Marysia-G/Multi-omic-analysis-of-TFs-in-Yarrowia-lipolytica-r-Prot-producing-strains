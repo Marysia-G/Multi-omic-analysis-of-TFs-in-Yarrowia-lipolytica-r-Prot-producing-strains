{
 "cells": [
  {
   "cell_type": "code",
   "execution_count": 2,
   "metadata": {},
   "outputs": [],
   "source": [
    "import pandas as pd\n",
    "\n",
    "merged_results = pd.read_excel('all_merged_data.xlsx')"
   ]
  },
  {
   "cell_type": "code",
   "execution_count": 3,
   "metadata": {},
   "outputs": [
    {
     "name": "stdout",
     "output_type": "stream",
     "text": [
      "     Unnamed: 0    Gene TF number Assigned name  scSoA  scYFP  inYFP  scTlG  \\\n",
      "42           42  E07942     TF042          MIG1   0.24   0.19    0.0    0.0   \n",
      "64           64  E18304     TF127        ERT1-1   0.26   0.00    0.0    0.0   \n",
      "74           74  E27742     TF091          GCN4   0.00   0.31    0.0    0.0   \n",
      "98           98  E03410     TF040        ERT1-2   0.00   0.00    0.0    0.0   \n",
      "125         125  F21923     TF116          ADR1   0.00   0.00    0.0    0.0   \n",
      "126         126  E10087     TF117             -   0.00   0.00    0.0    0.0   \n",
      "127         127  D02783     TF118         DAL81   0.00   0.00    0.0    0.0   \n",
      "130         130  C19151     TF122          CAT8   0.00   0.00    0.0    0.0   \n",
      "\n",
      "     scYFP_HAC1  OE_rProt_total  OE_rProt_normalized  KO_inRedStar  \\\n",
      "42        -0.29        1.040731             1.044388      1.059896   \n",
      "64         0.30        1.303377             1.271940      1.000000   \n",
      "74         0.22        0.850332             0.883215      1.000000   \n",
      "98         0.00        0.851354             0.884211      1.000000   \n",
      "125        0.00        0.944498             0.939457      1.000000   \n",
      "126        0.00        0.887596             0.938357      1.000000   \n",
      "127        0.00        1.279337             1.229632      1.000000   \n",
      "130        0.00        0.709832             0.717100      1.000000   \n",
      "\n",
      "     KO_normalized_inRedStar  \n",
      "42                  1.011571  \n",
      "64                  1.000000  \n",
      "74                  1.000000  \n",
      "98                  1.000000  \n",
      "125                 1.000000  \n",
      "126                 1.000000  \n",
      "127                 1.000000  \n",
      "130                 1.000000  \n"
     ]
    }
   ],
   "source": [
    "nutrient_mask = merged_results['Gene'].isin(['E18304', 'E18304', 'E03410', 'D02783', 'E27742', 'E07942', 'E10087', 'F21923', 'C19151'])\n",
    "nutrient = merged_results[nutrient_mask]\n",
    "\n",
    "'''uniform_dereg[\"order\"] = uniform_dereg.iloc[:, 4:13].mean(axis=1)\n",
    "uniform_dereg = uniform_dereg.sort_values(by='order')'''\n",
    "\n",
    "print(nutrient)\n"
   ]
  },
  {
   "cell_type": "code",
   "execution_count": 4,
   "metadata": {},
   "outputs": [
    {
     "name": "stdout",
     "output_type": "stream",
     "text": [
      "     Unnamed: 0    Gene TF number Assigned name  scSoA  scYFP  inYFP  scTlG  \\\n",
      "98           98  E03410     TF040        ERT1-2   0.00   0.00    0.0    0.0   \n",
      "125         125  F21923     TF116          ADR1   0.00   0.00    0.0    0.0   \n",
      "126         126  E10087     TF117             -   0.00   0.00    0.0    0.0   \n",
      "127         127  D02783     TF118         DAL81   0.00   0.00    0.0    0.0   \n",
      "130         130  C19151     TF122          CAT8   0.00   0.00    0.0    0.0   \n",
      "42           42  E07942     TF042          MIG1   0.24   0.19    0.0    0.0   \n",
      "74           74  E27742     TF091          GCN4   0.00   0.31    0.0    0.0   \n",
      "64           64  E18304     TF127        ERT1-1   0.26   0.00    0.0    0.0   \n",
      "\n",
      "     scYFP_HAC1  OE_rProt_total  OE_rProt_normalized  all_sum  \n",
      "98         0.00        0.851354             0.884211     0.00  \n",
      "125        0.00        0.944498             0.939457     0.00  \n",
      "126        0.00        0.887596             0.938357     0.00  \n",
      "127        0.00        1.279337             1.229632     0.00  \n",
      "130        0.00        0.709832             0.717100     0.00  \n",
      "42        -0.29        1.040731             1.044388     0.14  \n",
      "74         0.22        0.850332             0.883215     0.53  \n",
      "64         0.30        1.303377             1.271940     0.56  \n"
     ]
    },
    {
     "name": "stderr",
     "output_type": "stream",
     "text": [
      "C:\\Users\\User\\AppData\\Local\\Temp\\ipykernel_14876\\1139452562.py:1: SettingWithCopyWarning: \n",
      "A value is trying to be set on a copy of a slice from a DataFrame.\n",
      "Try using .loc[row_indexer,col_indexer] = value instead\n",
      "\n",
      "See the caveats in the documentation: https://pandas.pydata.org/pandas-docs/stable/user_guide/indexing.html#returning-a-view-versus-a-copy\n",
      "  nutrient['all_sum'] = nutrient['scSoA'] + nutrient['scYFP'] + nutrient['inYFP'] + nutrient['scTlG'] + nutrient['scYFP_HAC1']\n"
     ]
    }
   ],
   "source": [
    "nutrient['all_sum'] = nutrient['scSoA'] + nutrient['scYFP'] + nutrient['inYFP'] + nutrient['scTlG'] + nutrient['scYFP_HAC1']\n",
    "nutrient = nutrient.sort_values(by=['all_sum'])\n",
    "nutrient.drop(['KO_inRedStar', 'KO_normalized_inRedStar'], axis=1, inplace=True)\n",
    "print(nutrient)"
   ]
  },
  {
   "cell_type": "code",
   "execution_count": 14,
   "metadata": {},
   "outputs": [
    {
     "data": {
      "image/png": "[encoded data removed]",
      "text/plain": [
       "<Figure size 520x390 with 2 Axes>"
      ]
     },
     "metadata": {},
     "output_type": "display_data"
    }
   ],
   "source": [
    "import matplotlib.pyplot as plt\n",
    "from matplotlib.colors import LinearSegmentedColormap\n",
    "from mpl_toolkits.axes_grid1 import make_axes_locatable\n",
    "import seaborn as sns\n",
    "\n",
    "\n",
    "# Define the numeric data and row labels\n",
    "numeric_data1 = nutrient.iloc[:, 4:9]\n",
    "numeric_data2 = nutrient.iloc[:, 9:11]\n",
    "\n",
    "row_labels = [gene if assigned_name == '-' else assigned_name \n",
    "              for assigned_name, gene in zip(nutrient['Assigned name'], nutrient['Gene'])]\n",
    "\n",
    "# Create a custom colormap\n",
    "colors = ['blue', 'white', 'red']\n",
    "cmap = LinearSegmentedColormap.from_list('custom_cmap', colors, N=100)\n",
    "\n",
    "annot_kws = {\"size\": 7, \"weight\": \"bold\"}\n",
    "\n",
    "\n",
    "# Create the figure and axes\n",
    "fig, (ax1, ax2) = plt.subplots(nrows=1, ncols=2, figsize=(5.2, 3.9), sharey=True)\n",
    "\n",
    "# Plot the first heatmap\n",
    "annot_data1 = numeric_data1.map(lambda x: f'{x:.1f}' if x != 0 else '')\n",
    "\n",
    "# Create a blank annotation matrix for numeric_data2\n",
    "annot_data2 = pd.DataFrame('', index=numeric_data2.index, columns=numeric_data2.columns)\n",
    "\n",
    "# Specify annotations for chosen variants\n",
    "annotations2 = {\n",
    "    'OE_rProt_total': ['TF003', 'TF037', 'TF068', 'TF119', 'TF121', 'TF124', 'TF126', 'TF128'],\n",
    "    'OE_rProt_normalized': ['TF037', 'TF068', 'TF121', 'TF124', 'TF126', 'TF128'],\n",
    "}\n",
    "\n",
    "# Add annotations based on specified genes\n",
    "for column, genes in annotations2.items():\n",
    "    for gene in genes:\n",
    "        if gene in nutrient['TF number'].values:\n",
    "            annot_data2.loc[nutrient['TF number'] == gene, column] = numeric_data2.loc[nutrient['TF number'] == gene, column].apply(lambda x: f'{x:.1f}')\n",
    "\n",
    "\n",
    "sns.heatmap(numeric_data1, ax=ax1, yticklabels=row_labels, cmap=cmap, center=0, cbar=False, \n",
    "            linewidths=0.05, square=True, annot=annot_data1, fmt='', annot_kws=annot_kws,\n",
    "            vmin=-4.5, vmax=6, cbar_kws={'format': '%.1f'})\n",
    "ax1.xaxis.tick_top()\n",
    "ax1.set_xticklabels(ax1.get_xticklabels(), rotation=90, ha='left')\n",
    "ax1.set_title('Transcriptomics')\n",
    "\n",
    "# Plot the second heatmap\n",
    "sns.heatmap(numeric_data2, ax=ax2, yticklabels=row_labels, cmap=cmap, center=1, cbar=False, \n",
    "            linewidths=0.05, square=True, annot=annot_data2, fmt='', annot_kws=annot_kws,\n",
    "            vmin=0, vmax=2, cbar_kws={'format': '%.1f'})\n",
    "ax2.xaxis.tick_top()\n",
    "ax2.set_xticklabels(ax2.get_xticklabels(), rotation=90, ha='left')\n",
    "ax2.set_title('Phenotypes')\n",
    "\n",
    "# Adjust the layout\n",
    "plt.tight_layout()\n",
    "#plt.savefig('subheatmap_nutrient_wo_KO.png')\n"
   ]
  }
 ],
 "metadata": {
  "kernelspec": {
   "display_name": "Python 3",
   "language": "python",
   "name": "python3"
  },
  "language_info": {
   "codemirror_mode": {
    "name": "ipython",
    "version": 3
   },
   "file_extension": ".py",
   "mimetype": "text/x-python",
   "name": "python",
   "nbconvert_exporter": "python",
   "pygments_lexer": "ipython3",
   "version": "3.11.9"
  }
 },
 "nbformat": 4,
 "nbformat_minor": 2
}
